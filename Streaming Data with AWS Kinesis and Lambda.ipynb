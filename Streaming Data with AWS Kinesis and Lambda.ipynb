{
 "cells": [
  {
   "cell_type": "code",
   "execution_count": 1,
   "id": "2ccc334c-42fa-4cbc-b8e9-44d0b903909c",
   "metadata": {},
   "outputs": [],
   "source": [
    "import boto3\n",
    "import os\n"
   ]
  },
  {
   "cell_type": "code",
   "execution_count": 2,
   "id": "453aa800-416a-401d-84b3-0d338482a08c",
   "metadata": {},
   "outputs": [],
   "source": [
    "AWS_KEY_ID = os.environ['AWS_KEY_ID']\n",
    "AWS_SECRET = os.environ['AWS_SECRET']"
   ]
  },
  {
   "cell_type": "code",
   "execution_count": 3,
   "id": "81ce90be-e1dd-40bf-86e2-516ff96a4572",
   "metadata": {},
   "outputs": [
    {
     "data": {
      "text/plain": [
       "<botocore.client.Firehose at 0x2100022bb10>"
      ]
     },
     "execution_count": 3,
     "metadata": {},
     "output_type": "execute_result"
    }
   ],
   "source": [
    "firehose = boto3.client('firehose',aws_access_key_id=AWS_KEY_ID, aws_secret_access_key=AWS_SECRET, region_name='eu-central-1')\n",
    "firehose"
   ]
  },
  {
   "cell_type": "code",
   "execution_count": null,
   "id": "6035baf8-a5d4-4e42-8f92-e80d7e6318a9",
   "metadata": {},
   "outputs": [],
   "source": []
  },
  {
   "cell_type": "code",
   "execution_count": null,
   "id": "616f069f-1fae-4c45-b1ec-3676b4e47d7d",
   "metadata": {},
   "outputs": [],
   "source": []
  },
  {
   "cell_type": "code",
   "execution_count": null,
   "id": "e530d0db-7c33-4528-8e27-1cb541b0a66b",
   "metadata": {},
   "outputs": [],
   "source": []
  },
  {
   "cell_type": "code",
   "execution_count": null,
   "id": "60989f56-fbba-4738-a4c5-06a9e83cbdc1",
   "metadata": {},
   "outputs": [],
   "source": []
  },
  {
   "cell_type": "code",
   "execution_count": null,
   "id": "9811a671-c0e9-4675-abdc-bdb8c8b484f8",
   "metadata": {},
   "outputs": [],
   "source": []
  }
 ],
 "metadata": {
  "kernelspec": {
   "display_name": "Python 3 (ipykernel)",
   "language": "python",
   "name": "python3"
  },
  "language_info": {
   "codemirror_mode": {
    "name": "ipython",
    "version": 3
   },
   "file_extension": ".py",
   "mimetype": "text/x-python",
   "name": "python",
   "nbconvert_exporter": "python",
   "pygments_lexer": "ipython3",
   "version": "3.11.2"
  }
 },
 "nbformat": 4,
 "nbformat_minor": 5
}
